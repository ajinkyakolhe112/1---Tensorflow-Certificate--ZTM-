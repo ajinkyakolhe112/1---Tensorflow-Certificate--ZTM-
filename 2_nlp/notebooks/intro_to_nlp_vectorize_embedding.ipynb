{
 "cells": [
  {
   "cell_type": "code",
   "execution_count": 4,
   "metadata": {},
   "outputs": [],
   "source": [
    "import tensorflow as tf\n",
    "from tensorflow import keras\n",
    "import pandas as pd\n",
    "\n",
    "from IPython.core.interactiveshell import InteractiveShell\n",
    "InteractiveShell.ast_node_interactivity = 'all'"
   ]
  },
  {
   "cell_type": "code",
   "execution_count": 5,
   "metadata": {},
   "outputs": [
    {
     "name": "stdout",
     "output_type": "stream",
     "text": [
      "['', '[UNK]', 'vocabulary', 'to', 'text', 'here', 'goes', 'entire', 'build']\n"
     ]
    },
    {
     "data": {
      "text/plain": [
       "<tf.Tensor: shape=(1, 15), dtype=int64, numpy=array([[7, 0, 0, 0, 0, 0, 0, 0, 0, 0, 0, 0, 0, 0, 0]])>"
      ]
     },
     "execution_count": 5,
     "metadata": {},
     "output_type": "execute_result"
    },
    {
     "data": {
      "text/plain": [
       "<tf.Tensor: shape=(1, 15), dtype=int64, numpy=array([[4, 0, 0, 0, 0, 0, 0, 0, 0, 0, 0, 0, 0, 0, 0]])>"
      ]
     },
     "execution_count": 5,
     "metadata": {},
     "output_type": "execute_result"
    },
    {
     "data": {
      "text/plain": [
       "<tf.Tensor: shape=(1, 15), dtype=int64, numpy=array([[6, 0, 0, 0, 0, 0, 0, 0, 0, 0, 0, 0, 0, 0, 0]])>"
      ]
     },
     "execution_count": 5,
     "metadata": {},
     "output_type": "execute_result"
    },
    {
     "data": {
      "text/plain": [
       "<tf.Tensor: shape=(1, 15), dtype=int64, numpy=array([[5, 0, 0, 0, 0, 0, 0, 0, 0, 0, 0, 0, 0, 0, 0]])>"
      ]
     },
     "execution_count": 5,
     "metadata": {},
     "output_type": "execute_result"
    },
    {
     "data": {
      "text/plain": [
       "<tf.Tensor: shape=(1, 15), dtype=int64, numpy=array([[7, 4, 6, 5, 8, 0, 0, 0, 0, 0, 0, 0, 0, 0, 0]])>"
      ]
     },
     "execution_count": 5,
     "metadata": {},
     "output_type": "execute_result"
    }
   ],
   "source": [
    "import tensorflow as tf\n",
    "\n",
    "max_vocab_size              = 5000      # Maximum vocab size.\n",
    "text_to_vector_dumb_length  = 15        # Sequence length to pad the outputs to.\n",
    "\n",
    "# Create the layer.\n",
    "text_to_vectorizer_dumb = tf.keras.layers.TextVectorization( max_tokens= max_vocab_size, output_mode='int', output_sequence_length= text_to_vector_dumb_length)\n",
    "\n",
    "entire_text = [\"entire text goes here to build vocabulary\"]\n",
    "text_to_vectorizer_dumb.adapt(entire_text)\n",
    "\n",
    "print(text_to_vectorizer_dumb.get_vocabulary())\n",
    "# UNK = Unknown Word. For any new word which might\n",
    "\n",
    "text_to_vectorizer_dumb([\"entire\"])\n",
    "text_to_vectorizer_dumb([\"text\"])\n",
    "text_to_vectorizer_dumb([\"goes\"])\n",
    "text_to_vectorizer_dumb([\"here\"])\n",
    "text_to_vectorizer_dumb([\"entire text goes here build\"])\n"
   ]
  },
  {
   "cell_type": "code",
   "execution_count": 6,
   "metadata": {},
   "outputs": [],
   "source": [
    "# one word mapped to a vector containing its meaning. \n",
    "vector_with_embedded_meaning_dim   = 64\n",
    "embed_meaning_in_vector_layer      = tf.keras.layers.Embedding(output_dim= vector_with_embedded_meaning_dim, input_dim = max_vocab_size, input_length= text_to_vector_dumb_length)\n",
    "\n",
    "\n",
    "# EMBED MEANING => EMBEDDING\n"
   ]
  },
  {
   "cell_type": "code",
   "execution_count": 16,
   "metadata": {},
   "outputs": [
    {
     "name": "stdout",
     "output_type": "stream",
     "text": [
      "vector without meaning shape = (1, 15),\t vector with meaning shape (1, 15, 64)\n",
      "meaning vector of 10 word = [-0.00646129  0.01386526 -0.01496465 -0.01099648 -0.0499365   0.04499152\n",
      "  0.04646266  0.0384034   0.00460042 -0.00221373  0.02290709  0.0488412\n",
      " -0.04549394  0.00944587  0.01322286  0.04293257 -0.03847421 -0.04385277\n",
      "  0.02934437 -0.04446988 -0.03426822  0.01092397 -0.0004623  -0.04934436\n",
      " -0.03488923 -0.04170244  0.00256151  0.00068662 -0.04645572  0.03301087\n",
      "  0.0346591  -0.0231213  -0.04987159 -0.04592097 -0.00907439 -0.01337068\n",
      " -0.04390414 -0.01634269  0.03903729 -0.04703759  0.03529351  0.04041542\n",
      "  0.02393371 -0.04285647  0.02001465 -0.0469002  -0.04266062  0.03841719\n",
      " -0.00630647 -0.02836962  0.03590116  0.01463059 -0.04474033 -0.02610832\n",
      " -0.01845827  0.01776974  0.03399685  0.04374765  0.0154726   0.03227425\n",
      "  0.01090155  0.0077626   0.01854375  0.00680038]\n",
      "first word as number = 0\n",
      "first word as number = [1 1 1 1 0 0 0 0 0 0 0 0 0 0 0]\n"
     ]
    }
   ],
   "source": [
    "dumb_vector             = text_to_vectorizer_dumb([\"good morning, hello world\"])\n",
    "vector_with_embedded_meaning = embed_meaning_in_vector_layer(dumb_vector)\n",
    "\n",
    "print(f'vector without meaning shape = {dumb_vector.shape},\\t vector with meaning shape {vector_with_embedded_meaning.shape}')\n",
    "nth_index = 10\n",
    "print(f'meaning vector of {nth_index} word = {vector_with_embedded_meaning[0][nth_index]}')\n",
    "print(f'first word as number = {dumb_vector[0][nth_index]}')\n",
    "print(f'dumb vector = {dumb_vector[0]}')"
   ]
  }
 ],
 "metadata": {
  "kernelspec": {
   "display_name": "base",
   "language": "python",
   "name": "python3"
  },
  "language_info": {
   "codemirror_mode": {
    "name": "ipython",
    "version": 3
   },
   "file_extension": ".py",
   "mimetype": "text/x-python",
   "name": "python",
   "nbconvert_exporter": "python",
   "pygments_lexer": "ipython3",
   "version": "3.11.5"
  }
 },
 "nbformat": 4,
 "nbformat_minor": 2
}
